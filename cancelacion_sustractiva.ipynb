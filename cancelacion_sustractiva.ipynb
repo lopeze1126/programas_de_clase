{
 "cells": [
  {
   "cell_type": "markdown",
   "metadata": {},
   "source": [
    "# Cancelación sustractiva"
   ]
  },
  {
   "cell_type": "code",
   "execution_count": 23,
   "metadata": {},
   "outputs": [],
   "source": [
    "import math as m\n",
    "import numpy as np\n",
    "import matplotlib.pyplot as plt\n",
    "a=1\n",
    "b=1\n",
    "x_list=[]\n",
    "y_list=[]\n",
    "\n",
    "for i in range(1,10):\n",
    "    c=10**(-i)\n",
    "    x_1 = (-b+(b**2 -4*a*c)**0.5)/(2*a)\n",
    "    x_1_p =  (2*c)/(-b-(b**2 -4*a*c)**0.5)\n",
    "    error= abs(x_1_p -x_1)/abs((x_1_p))*100.0\n",
    "    x_list.append(c)\n",
    "    y_list.append(error)\n",
    "    #print (\"c=%.5e x_1=%.16e x_1_p=%.16e error=%.16f\" %(c,x_1,x_1_p,error))\n"
   ]
  },
  {
   "cell_type": "code",
   "execution_count": 32,
   "metadata": {},
   "outputs": [
    {
     "data": {
      "image/png": "[encoded data removed]",
      "text/plain": [
       "<matplotlib.figure.Figure at 0x7fc9bd5b2940>"
      ]
     },
     "metadata": {},
     "output_type": "display_data"
    }
   ],
   "source": [
    "\n",
    "fig=plt.figure(figsize=(8,8))\n",
    "ax=plt.axes()\n",
    "ax.plot(x_list,y_list,'o')\n",
    "ax.set_yscale('log')\n",
    "ax.grid()\n",
    "ax.set_xscale('log')\n",
    "ax.set_xlabel(\"c\")\n",
    "ax.set_ylabel(\"error\")\n",
    "\n",
    "plt.show()\n",
    "\n",
    "\n"
   ]
  },
  {
   "cell_type": "code",
   "execution_count": null,
   "metadata": {
    "collapsed": true
   },
   "outputs": [],
   "source": []
  },
  {
   "cell_type": "code",
   "execution_count": null,
   "metadata": {
    "collapsed": true
   },
   "outputs": [],
   "source": []
  }
 ],
 "metadata": {
  "kernelspec": {
   "display_name": "Python 3",
   "language": "python",
   "name": "python3"
  },
  "language_info": {
   "codemirror_mode": {
    "name": "ipython",
    "version": 3
   },
   "file_extension": ".py",
   "mimetype": "text/x-python",
   "name": "python",
   "nbconvert_exporter": "python",
   "pygments_lexer": "ipython3",
   "version": "3.6.3"
  }
 },
 "nbformat": 4,
 "nbformat_minor": 2
}
